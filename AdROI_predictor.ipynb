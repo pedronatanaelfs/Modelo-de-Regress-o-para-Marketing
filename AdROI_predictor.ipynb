{
  "cells": [
    {
      "cell_type": "markdown",
      "metadata": {
        "id": "view-in-github"
      },
      "source": [
        "<a href=\"https://colab.research.google.com/github/pedronatanaelfs/Modelo-de-Regress-o-para-Marketing/blob/main/Desafio_4.ipynb\" target=\"_parent\"><img src=\"https://colab.research.google.com/assets/colab-badge.svg\" alt=\"Open In Colab\"/></a>"
      ]
    },
    {
      "cell_type": "markdown",
      "metadata": {
        "id": "Bl7r1sSqqCWL"
      },
      "source": [
        "# Challenge: Building a Regression Model for Marketing\n",
        "\n",
        "A company is investing monthly in online advertising platforms, such as YouTube, Facebook, and newspapers, for lead generation (individuals interested in their products). To monitor the performance of these investments, the company records all advertising expenses and sales returns generated from these investments. In order to better understand the relationship between the variables present in these records and identify the factors that most impact lead generation, the company has requested the analysis of a data specialist. Additionally, the company aims to create a predictive model to estimate the sales return that can be generated from a specific advertising investment."
      ]
    },
    {
      "cell_type": "markdown",
      "metadata": {
        "id": "SLkOE9J7q1aC"
      },
      "source": [
        "# 1. Importing Data\n",
        "\n",
        "The database was provided in CSV format, and we will import it using the Pandas library. First, let's import the necessary libraries:\n"
      ]
    },
    {
      "cell_type": "code",
      "execution_count": 8,
      "metadata": {
        "id": "X8F1cYTTpl1J"
      },
      "outputs": [],
      "source": [
        "#Importing Libraries\n",
        "import pandas as pd\n",
        "import seaborn as sns\n",
        "import numpy as np\n",
        "import plotly.express as px\n",
        "import matplotlib.pyplot as plt\n",
        "import plotly.graph_objects as go\n",
        "\n",
        "from sklearn.svm import SVR\n",
        "from sklearn.linear_model import LinearRegression\n",
        "from plotly.subplots import make_subplots\n",
        "from sklearn.model_selection import train_test_split, GridSearchCV\n",
        "from sklearn.metrics import r2_score"
      ]
    },
    {
      "cell_type": "markdown",
      "metadata": {
        "id": "k1tt9FrtrCDC"
      },
      "source": [
        "Now, let's import the dataset:"
      ]
    },
    {
      "cell_type": "code",
      "execution_count": 9,
      "metadata": {
        "id": "_qKP6jyWrEqq"
      },
      "outputs": [],
      "source": [
        "# Importing the dataset using the .read_csv method from pandas and storing it in the \"mkt_sales\" variable\n",
        "\n",
        "mkt_sales = pd.read_csv('MKT.csv')"
      ]
    },
    {
      "cell_type": "markdown",
      "metadata": {
        "id": "Fy-7v0v2yFJT"
      },
      "source": [
        "# 2. Descriptive Analysis\n",
        "Let's analyze the data we have:"
      ]
    },
    {
      "cell_type": "code",
      "execution_count": 10,
      "metadata": {
        "colab": {
          "base_uri": "https://localhost:8080/",
          "height": 206
        },
        "id": "ZLKTnx6ryJsL",
        "outputId": "f8cc44aa-f9b8-4b3c-d576-9587fd5cce2e"
      },
      "outputs": [
        {
          "output_type": "execute_result",
          "data": {
            "text/plain": [
              "   youtube  facebook  newspaper  sales\n",
              "0    84.72     19.20      48.96  12.60\n",
              "1   351.48     33.96      51.84  25.68\n",
              "2   135.48     20.88      46.32  14.28\n",
              "3   116.64      1.80      36.00  11.52\n",
              "4   318.72     24.00       0.36  20.88"
            ],
            "text/html": [
              "\n",
              "  <div id=\"df-8bb7534c-6dd6-4769-9bef-a821a984a076\" class=\"colab-df-container\">\n",
              "    <div>\n",
              "<style scoped>\n",
              "    .dataframe tbody tr th:only-of-type {\n",
              "        vertical-align: middle;\n",
              "    }\n",
              "\n",
              "    .dataframe tbody tr th {\n",
              "        vertical-align: top;\n",
              "    }\n",
              "\n",
              "    .dataframe thead th {\n",
              "        text-align: right;\n",
              "    }\n",
              "</style>\n",
              "<table border=\"1\" class=\"dataframe\">\n",
              "  <thead>\n",
              "    <tr style=\"text-align: right;\">\n",
              "      <th></th>\n",
              "      <th>youtube</th>\n",
              "      <th>facebook</th>\n",
              "      <th>newspaper</th>\n",
              "      <th>sales</th>\n",
              "    </tr>\n",
              "  </thead>\n",
              "  <tbody>\n",
              "    <tr>\n",
              "      <th>0</th>\n",
              "      <td>84.72</td>\n",
              "      <td>19.20</td>\n",
              "      <td>48.96</td>\n",
              "      <td>12.60</td>\n",
              "    </tr>\n",
              "    <tr>\n",
              "      <th>1</th>\n",
              "      <td>351.48</td>\n",
              "      <td>33.96</td>\n",
              "      <td>51.84</td>\n",
              "      <td>25.68</td>\n",
              "    </tr>\n",
              "    <tr>\n",
              "      <th>2</th>\n",
              "      <td>135.48</td>\n",
              "      <td>20.88</td>\n",
              "      <td>46.32</td>\n",
              "      <td>14.28</td>\n",
              "    </tr>\n",
              "    <tr>\n",
              "      <th>3</th>\n",
              "      <td>116.64</td>\n",
              "      <td>1.80</td>\n",
              "      <td>36.00</td>\n",
              "      <td>11.52</td>\n",
              "    </tr>\n",
              "    <tr>\n",
              "      <th>4</th>\n",
              "      <td>318.72</td>\n",
              "      <td>24.00</td>\n",
              "      <td>0.36</td>\n",
              "      <td>20.88</td>\n",
              "    </tr>\n",
              "  </tbody>\n",
              "</table>\n",
              "</div>\n",
              "    <div class=\"colab-df-buttons\">\n",
              "\n",
              "  <div class=\"colab-df-container\">\n",
              "    <button class=\"colab-df-convert\" onclick=\"convertToInteractive('df-8bb7534c-6dd6-4769-9bef-a821a984a076')\"\n",
              "            title=\"Convert this dataframe to an interactive table.\"\n",
              "            style=\"display:none;\">\n",
              "\n",
              "  <svg xmlns=\"http://www.w3.org/2000/svg\" height=\"24px\" viewBox=\"0 -960 960 960\">\n",
              "    <path d=\"M120-120v-720h720v720H120Zm60-500h600v-160H180v160Zm220 220h160v-160H400v160Zm0 220h160v-160H400v160ZM180-400h160v-160H180v160Zm440 0h160v-160H620v160ZM180-180h160v-160H180v160Zm440 0h160v-160H620v160Z\"/>\n",
              "  </svg>\n",
              "    </button>\n",
              "\n",
              "  <style>\n",
              "    .colab-df-container {\n",
              "      display:flex;\n",
              "      gap: 12px;\n",
              "    }\n",
              "\n",
              "    .colab-df-convert {\n",
              "      background-color: #E8F0FE;\n",
              "      border: none;\n",
              "      border-radius: 50%;\n",
              "      cursor: pointer;\n",
              "      display: none;\n",
              "      fill: #1967D2;\n",
              "      height: 32px;\n",
              "      padding: 0 0 0 0;\n",
              "      width: 32px;\n",
              "    }\n",
              "\n",
              "    .colab-df-convert:hover {\n",
              "      background-color: #E2EBFA;\n",
              "      box-shadow: 0px 1px 2px rgba(60, 64, 67, 0.3), 0px 1px 3px 1px rgba(60, 64, 67, 0.15);\n",
              "      fill: #174EA6;\n",
              "    }\n",
              "\n",
              "    .colab-df-buttons div {\n",
              "      margin-bottom: 4px;\n",
              "    }\n",
              "\n",
              "    [theme=dark] .colab-df-convert {\n",
              "      background-color: #3B4455;\n",
              "      fill: #D2E3FC;\n",
              "    }\n",
              "\n",
              "    [theme=dark] .colab-df-convert:hover {\n",
              "      background-color: #434B5C;\n",
              "      box-shadow: 0px 1px 3px 1px rgba(0, 0, 0, 0.15);\n",
              "      filter: drop-shadow(0px 1px 2px rgba(0, 0, 0, 0.3));\n",
              "      fill: #FFFFFF;\n",
              "    }\n",
              "  </style>\n",
              "\n",
              "    <script>\n",
              "      const buttonEl =\n",
              "        document.querySelector('#df-8bb7534c-6dd6-4769-9bef-a821a984a076 button.colab-df-convert');\n",
              "      buttonEl.style.display =\n",
              "        google.colab.kernel.accessAllowed ? 'block' : 'none';\n",
              "\n",
              "      async function convertToInteractive(key) {\n",
              "        const element = document.querySelector('#df-8bb7534c-6dd6-4769-9bef-a821a984a076');\n",
              "        const dataTable =\n",
              "          await google.colab.kernel.invokeFunction('convertToInteractive',\n",
              "                                                    [key], {});\n",
              "        if (!dataTable) return;\n",
              "\n",
              "        const docLinkHtml = 'Like what you see? Visit the ' +\n",
              "          '<a target=\"_blank\" href=https://colab.research.google.com/notebooks/data_table.ipynb>data table notebook</a>'\n",
              "          + ' to learn more about interactive tables.';\n",
              "        element.innerHTML = '';\n",
              "        dataTable['output_type'] = 'display_data';\n",
              "        await google.colab.output.renderOutput(dataTable, element);\n",
              "        const docLink = document.createElement('div');\n",
              "        docLink.innerHTML = docLinkHtml;\n",
              "        element.appendChild(docLink);\n",
              "      }\n",
              "    </script>\n",
              "  </div>\n",
              "\n",
              "\n",
              "<div id=\"df-0fc04c57-17ee-40f6-b258-e59b8ba90b11\">\n",
              "  <button class=\"colab-df-quickchart\" onclick=\"quickchart('df-0fc04c57-17ee-40f6-b258-e59b8ba90b11')\"\n",
              "            title=\"Suggest charts\"\n",
              "            style=\"display:none;\">\n",
              "\n",
              "<svg xmlns=\"http://www.w3.org/2000/svg\" height=\"24px\"viewBox=\"0 0 24 24\"\n",
              "     width=\"24px\">\n",
              "    <g>\n",
              "        <path d=\"M19 3H5c-1.1 0-2 .9-2 2v14c0 1.1.9 2 2 2h14c1.1 0 2-.9 2-2V5c0-1.1-.9-2-2-2zM9 17H7v-7h2v7zm4 0h-2V7h2v10zm4 0h-2v-4h2v4z\"/>\n",
              "    </g>\n",
              "</svg>\n",
              "  </button>\n",
              "\n",
              "<style>\n",
              "  .colab-df-quickchart {\n",
              "      --bg-color: #E8F0FE;\n",
              "      --fill-color: #1967D2;\n",
              "      --hover-bg-color: #E2EBFA;\n",
              "      --hover-fill-color: #174EA6;\n",
              "      --disabled-fill-color: #AAA;\n",
              "      --disabled-bg-color: #DDD;\n",
              "  }\n",
              "\n",
              "  [theme=dark] .colab-df-quickchart {\n",
              "      --bg-color: #3B4455;\n",
              "      --fill-color: #D2E3FC;\n",
              "      --hover-bg-color: #434B5C;\n",
              "      --hover-fill-color: #FFFFFF;\n",
              "      --disabled-bg-color: #3B4455;\n",
              "      --disabled-fill-color: #666;\n",
              "  }\n",
              "\n",
              "  .colab-df-quickchart {\n",
              "    background-color: var(--bg-color);\n",
              "    border: none;\n",
              "    border-radius: 50%;\n",
              "    cursor: pointer;\n",
              "    display: none;\n",
              "    fill: var(--fill-color);\n",
              "    height: 32px;\n",
              "    padding: 0;\n",
              "    width: 32px;\n",
              "  }\n",
              "\n",
              "  .colab-df-quickchart:hover {\n",
              "    background-color: var(--hover-bg-color);\n",
              "    box-shadow: 0 1px 2px rgba(60, 64, 67, 0.3), 0 1px 3px 1px rgba(60, 64, 67, 0.15);\n",
              "    fill: var(--button-hover-fill-color);\n",
              "  }\n",
              "\n",
              "  .colab-df-quickchart-complete:disabled,\n",
              "  .colab-df-quickchart-complete:disabled:hover {\n",
              "    background-color: var(--disabled-bg-color);\n",
              "    fill: var(--disabled-fill-color);\n",
              "    box-shadow: none;\n",
              "  }\n",
              "\n",
              "  .colab-df-spinner {\n",
              "    border: 2px solid var(--fill-color);\n",
              "    border-color: transparent;\n",
              "    border-bottom-color: var(--fill-color);\n",
              "    animation:\n",
              "      spin 1s steps(1) infinite;\n",
              "  }\n",
              "\n",
              "  @keyframes spin {\n",
              "    0% {\n",
              "      border-color: transparent;\n",
              "      border-bottom-color: var(--fill-color);\n",
              "      border-left-color: var(--fill-color);\n",
              "    }\n",
              "    20% {\n",
              "      border-color: transparent;\n",
              "      border-left-color: var(--fill-color);\n",
              "      border-top-color: var(--fill-color);\n",
              "    }\n",
              "    30% {\n",
              "      border-color: transparent;\n",
              "      border-left-color: var(--fill-color);\n",
              "      border-top-color: var(--fill-color);\n",
              "      border-right-color: var(--fill-color);\n",
              "    }\n",
              "    40% {\n",
              "      border-color: transparent;\n",
              "      border-right-color: var(--fill-color);\n",
              "      border-top-color: var(--fill-color);\n",
              "    }\n",
              "    60% {\n",
              "      border-color: transparent;\n",
              "      border-right-color: var(--fill-color);\n",
              "    }\n",
              "    80% {\n",
              "      border-color: transparent;\n",
              "      border-right-color: var(--fill-color);\n",
              "      border-bottom-color: var(--fill-color);\n",
              "    }\n",
              "    90% {\n",
              "      border-color: transparent;\n",
              "      border-bottom-color: var(--fill-color);\n",
              "    }\n",
              "  }\n",
              "</style>\n",
              "\n",
              "  <script>\n",
              "    async function quickchart(key) {\n",
              "      const quickchartButtonEl =\n",
              "        document.querySelector('#' + key + ' button');\n",
              "      quickchartButtonEl.disabled = true;  // To prevent multiple clicks.\n",
              "      quickchartButtonEl.classList.add('colab-df-spinner');\n",
              "      try {\n",
              "        const charts = await google.colab.kernel.invokeFunction(\n",
              "            'suggestCharts', [key], {});\n",
              "      } catch (error) {\n",
              "        console.error('Error during call to suggestCharts:', error);\n",
              "      }\n",
              "      quickchartButtonEl.classList.remove('colab-df-spinner');\n",
              "      quickchartButtonEl.classList.add('colab-df-quickchart-complete');\n",
              "    }\n",
              "    (() => {\n",
              "      let quickchartButtonEl =\n",
              "        document.querySelector('#df-0fc04c57-17ee-40f6-b258-e59b8ba90b11 button');\n",
              "      quickchartButtonEl.style.display =\n",
              "        google.colab.kernel.accessAllowed ? 'block' : 'none';\n",
              "    })();\n",
              "  </script>\n",
              "</div>\n",
              "\n",
              "    </div>\n",
              "  </div>\n"
            ]
          },
          "metadata": {},
          "execution_count": 10
        }
      ],
      "source": [
        "# Analyzing the columns and the first rows\n",
        "mkt_sales.head()"
      ]
    },
    {
      "cell_type": "markdown",
      "metadata": {
        "id": "qs0RNL62yQSy"
      },
      "source": [
        "We have 4 columns: youtube, facebook, newspaper, and sales."
      ]
    },
    {
      "cell_type": "code",
      "execution_count": 11,
      "metadata": {
        "colab": {
          "base_uri": "https://localhost:8080/"
        },
        "id": "HPjqbh8cyW_E",
        "outputId": "8d7fc1c2-fb18-4032-9a7c-a7159336b28a"
      },
      "outputs": [
        {
          "output_type": "stream",
          "name": "stdout",
          "text": [
            "<class 'pandas.core.frame.DataFrame'>\n",
            "RangeIndex: 171 entries, 0 to 170\n",
            "Data columns (total 4 columns):\n",
            " #   Column     Non-Null Count  Dtype  \n",
            "---  ------     --------------  -----  \n",
            " 0   youtube    171 non-null    float64\n",
            " 1   facebook   171 non-null    float64\n",
            " 2   newspaper  171 non-null    float64\n",
            " 3   sales      171 non-null    float64\n",
            "dtypes: float64(4)\n",
            "memory usage: 5.5 KB\n"
          ]
        }
      ],
      "source": [
        "# Let's check for null data and the data type of each column\n",
        "mkt_sales.info()"
      ]
    },
    {
      "cell_type": "markdown",
      "metadata": {
        "id": "YRCBoognygvi"
      },
      "source": [
        "All are in float64 format and appear to be well-filled without requiring correction.\n"
      ]
    },
    {
      "cell_type": "code",
      "execution_count": 12,
      "metadata": {
        "colab": {
          "base_uri": "https://localhost:8080/",
          "height": 300
        },
        "id": "-GGeSynByn3r",
        "outputId": "6bc570ee-7f05-481d-9206-fd64939e6df0"
      },
      "outputs": [
        {
          "output_type": "execute_result",
          "data": {
            "text/plain": [
              "          youtube    facebook   newspaper       sales\n",
              "count  171.000000  171.000000  171.000000  171.000000\n",
              "mean   178.021053   27.671579   35.240000   16.922807\n",
              "std    102.449597   17.913532   24.902918    6.314608\n",
              "min      0.840000    0.000000    0.360000    1.920000\n",
              "25%     91.080000   11.700000   13.740000   12.540000\n",
              "50%    179.760000   26.760000   31.080000   15.480000\n",
              "75%    262.980000   43.680000   50.880000   20.820000\n",
              "max    355.680000   59.520000  121.080000   32.400000"
            ],
            "text/html": [
              "\n",
              "  <div id=\"df-dd7d976f-3eea-44f3-813c-a53ceb2117ad\" class=\"colab-df-container\">\n",
              "    <div>\n",
              "<style scoped>\n",
              "    .dataframe tbody tr th:only-of-type {\n",
              "        vertical-align: middle;\n",
              "    }\n",
              "\n",
              "    .dataframe tbody tr th {\n",
              "        vertical-align: top;\n",
              "    }\n",
              "\n",
              "    .dataframe thead th {\n",
              "        text-align: right;\n",
              "    }\n",
              "</style>\n",
              "<table border=\"1\" class=\"dataframe\">\n",
              "  <thead>\n",
              "    <tr style=\"text-align: right;\">\n",
              "      <th></th>\n",
              "      <th>youtube</th>\n",
              "      <th>facebook</th>\n",
              "      <th>newspaper</th>\n",
              "      <th>sales</th>\n",
              "    </tr>\n",
              "  </thead>\n",
              "  <tbody>\n",
              "    <tr>\n",
              "      <th>count</th>\n",
              "      <td>171.000000</td>\n",
              "      <td>171.000000</td>\n",
              "      <td>171.000000</td>\n",
              "      <td>171.000000</td>\n",
              "    </tr>\n",
              "    <tr>\n",
              "      <th>mean</th>\n",
              "      <td>178.021053</td>\n",
              "      <td>27.671579</td>\n",
              "      <td>35.240000</td>\n",
              "      <td>16.922807</td>\n",
              "    </tr>\n",
              "    <tr>\n",
              "      <th>std</th>\n",
              "      <td>102.449597</td>\n",
              "      <td>17.913532</td>\n",
              "      <td>24.902918</td>\n",
              "      <td>6.314608</td>\n",
              "    </tr>\n",
              "    <tr>\n",
              "      <th>min</th>\n",
              "      <td>0.840000</td>\n",
              "      <td>0.000000</td>\n",
              "      <td>0.360000</td>\n",
              "      <td>1.920000</td>\n",
              "    </tr>\n",
              "    <tr>\n",
              "      <th>25%</th>\n",
              "      <td>91.080000</td>\n",
              "      <td>11.700000</td>\n",
              "      <td>13.740000</td>\n",
              "      <td>12.540000</td>\n",
              "    </tr>\n",
              "    <tr>\n",
              "      <th>50%</th>\n",
              "      <td>179.760000</td>\n",
              "      <td>26.760000</td>\n",
              "      <td>31.080000</td>\n",
              "      <td>15.480000</td>\n",
              "    </tr>\n",
              "    <tr>\n",
              "      <th>75%</th>\n",
              "      <td>262.980000</td>\n",
              "      <td>43.680000</td>\n",
              "      <td>50.880000</td>\n",
              "      <td>20.820000</td>\n",
              "    </tr>\n",
              "    <tr>\n",
              "      <th>max</th>\n",
              "      <td>355.680000</td>\n",
              "      <td>59.520000</td>\n",
              "      <td>121.080000</td>\n",
              "      <td>32.400000</td>\n",
              "    </tr>\n",
              "  </tbody>\n",
              "</table>\n",
              "</div>\n",
              "    <div class=\"colab-df-buttons\">\n",
              "\n",
              "  <div class=\"colab-df-container\">\n",
              "    <button class=\"colab-df-convert\" onclick=\"convertToInteractive('df-dd7d976f-3eea-44f3-813c-a53ceb2117ad')\"\n",
              "            title=\"Convert this dataframe to an interactive table.\"\n",
              "            style=\"display:none;\">\n",
              "\n",
              "  <svg xmlns=\"http://www.w3.org/2000/svg\" height=\"24px\" viewBox=\"0 -960 960 960\">\n",
              "    <path d=\"M120-120v-720h720v720H120Zm60-500h600v-160H180v160Zm220 220h160v-160H400v160Zm0 220h160v-160H400v160ZM180-400h160v-160H180v160Zm440 0h160v-160H620v160ZM180-180h160v-160H180v160Zm440 0h160v-160H620v160Z\"/>\n",
              "  </svg>\n",
              "    </button>\n",
              "\n",
              "  <style>\n",
              "    .colab-df-container {\n",
              "      display:flex;\n",
              "      gap: 12px;\n",
              "    }\n",
              "\n",
              "    .colab-df-convert {\n",
              "      background-color: #E8F0FE;\n",
              "      border: none;\n",
              "      border-radius: 50%;\n",
              "      cursor: pointer;\n",
              "      display: none;\n",
              "      fill: #1967D2;\n",
              "      height: 32px;\n",
              "      padding: 0 0 0 0;\n",
              "      width: 32px;\n",
              "    }\n",
              "\n",
              "    .colab-df-convert:hover {\n",
              "      background-color: #E2EBFA;\n",
              "      box-shadow: 0px 1px 2px rgba(60, 64, 67, 0.3), 0px 1px 3px 1px rgba(60, 64, 67, 0.15);\n",
              "      fill: #174EA6;\n",
              "    }\n",
              "\n",
              "    .colab-df-buttons div {\n",
              "      margin-bottom: 4px;\n",
              "    }\n",
              "\n",
              "    [theme=dark] .colab-df-convert {\n",
              "      background-color: #3B4455;\n",
              "      fill: #D2E3FC;\n",
              "    }\n",
              "\n",
              "    [theme=dark] .colab-df-convert:hover {\n",
              "      background-color: #434B5C;\n",
              "      box-shadow: 0px 1px 3px 1px rgba(0, 0, 0, 0.15);\n",
              "      filter: drop-shadow(0px 1px 2px rgba(0, 0, 0, 0.3));\n",
              "      fill: #FFFFFF;\n",
              "    }\n",
              "  </style>\n",
              "\n",
              "    <script>\n",
              "      const buttonEl =\n",
              "        document.querySelector('#df-dd7d976f-3eea-44f3-813c-a53ceb2117ad button.colab-df-convert');\n",
              "      buttonEl.style.display =\n",
              "        google.colab.kernel.accessAllowed ? 'block' : 'none';\n",
              "\n",
              "      async function convertToInteractive(key) {\n",
              "        const element = document.querySelector('#df-dd7d976f-3eea-44f3-813c-a53ceb2117ad');\n",
              "        const dataTable =\n",
              "          await google.colab.kernel.invokeFunction('convertToInteractive',\n",
              "                                                    [key], {});\n",
              "        if (!dataTable) return;\n",
              "\n",
              "        const docLinkHtml = 'Like what you see? Visit the ' +\n",
              "          '<a target=\"_blank\" href=https://colab.research.google.com/notebooks/data_table.ipynb>data table notebook</a>'\n",
              "          + ' to learn more about interactive tables.';\n",
              "        element.innerHTML = '';\n",
              "        dataTable['output_type'] = 'display_data';\n",
              "        await google.colab.output.renderOutput(dataTable, element);\n",
              "        const docLink = document.createElement('div');\n",
              "        docLink.innerHTML = docLinkHtml;\n",
              "        element.appendChild(docLink);\n",
              "      }\n",
              "    </script>\n",
              "  </div>\n",
              "\n",
              "\n",
              "<div id=\"df-63786db1-4e8f-47c6-8700-f3d116393bf1\">\n",
              "  <button class=\"colab-df-quickchart\" onclick=\"quickchart('df-63786db1-4e8f-47c6-8700-f3d116393bf1')\"\n",
              "            title=\"Suggest charts\"\n",
              "            style=\"display:none;\">\n",
              "\n",
              "<svg xmlns=\"http://www.w3.org/2000/svg\" height=\"24px\"viewBox=\"0 0 24 24\"\n",
              "     width=\"24px\">\n",
              "    <g>\n",
              "        <path d=\"M19 3H5c-1.1 0-2 .9-2 2v14c0 1.1.9 2 2 2h14c1.1 0 2-.9 2-2V5c0-1.1-.9-2-2-2zM9 17H7v-7h2v7zm4 0h-2V7h2v10zm4 0h-2v-4h2v4z\"/>\n",
              "    </g>\n",
              "</svg>\n",
              "  </button>\n",
              "\n",
              "<style>\n",
              "  .colab-df-quickchart {\n",
              "      --bg-color: #E8F0FE;\n",
              "      --fill-color: #1967D2;\n",
              "      --hover-bg-color: #E2EBFA;\n",
              "      --hover-fill-color: #174EA6;\n",
              "      --disabled-fill-color: #AAA;\n",
              "      --disabled-bg-color: #DDD;\n",
              "  }\n",
              "\n",
              "  [theme=dark] .colab-df-quickchart {\n",
              "      --bg-color: #3B4455;\n",
              "      --fill-color: #D2E3FC;\n",
              "      --hover-bg-color: #434B5C;\n",
              "      --hover-fill-color: #FFFFFF;\n",
              "      --disabled-bg-color: #3B4455;\n",
              "      --disabled-fill-color: #666;\n",
              "  }\n",
              "\n",
              "  .colab-df-quickchart {\n",
              "    background-color: var(--bg-color);\n",
              "    border: none;\n",
              "    border-radius: 50%;\n",
              "    cursor: pointer;\n",
              "    display: none;\n",
              "    fill: var(--fill-color);\n",
              "    height: 32px;\n",
              "    padding: 0;\n",
              "    width: 32px;\n",
              "  }\n",
              "\n",
              "  .colab-df-quickchart:hover {\n",
              "    background-color: var(--hover-bg-color);\n",
              "    box-shadow: 0 1px 2px rgba(60, 64, 67, 0.3), 0 1px 3px 1px rgba(60, 64, 67, 0.15);\n",
              "    fill: var(--button-hover-fill-color);\n",
              "  }\n",
              "\n",
              "  .colab-df-quickchart-complete:disabled,\n",
              "  .colab-df-quickchart-complete:disabled:hover {\n",
              "    background-color: var(--disabled-bg-color);\n",
              "    fill: var(--disabled-fill-color);\n",
              "    box-shadow: none;\n",
              "  }\n",
              "\n",
              "  .colab-df-spinner {\n",
              "    border: 2px solid var(--fill-color);\n",
              "    border-color: transparent;\n",
              "    border-bottom-color: var(--fill-color);\n",
              "    animation:\n",
              "      spin 1s steps(1) infinite;\n",
              "  }\n",
              "\n",
              "  @keyframes spin {\n",
              "    0% {\n",
              "      border-color: transparent;\n",
              "      border-bottom-color: var(--fill-color);\n",
              "      border-left-color: var(--fill-color);\n",
              "    }\n",
              "    20% {\n",
              "      border-color: transparent;\n",
              "      border-left-color: var(--fill-color);\n",
              "      border-top-color: var(--fill-color);\n",
              "    }\n",
              "    30% {\n",
              "      border-color: transparent;\n",
              "      border-left-color: var(--fill-color);\n",
              "      border-top-color: var(--fill-color);\n",
              "      border-right-color: var(--fill-color);\n",
              "    }\n",
              "    40% {\n",
              "      border-color: transparent;\n",
              "      border-right-color: var(--fill-color);\n",
              "      border-top-color: var(--fill-color);\n",
              "    }\n",
              "    60% {\n",
              "      border-color: transparent;\n",
              "      border-right-color: var(--fill-color);\n",
              "    }\n",
              "    80% {\n",
              "      border-color: transparent;\n",
              "      border-right-color: var(--fill-color);\n",
              "      border-bottom-color: var(--fill-color);\n",
              "    }\n",
              "    90% {\n",
              "      border-color: transparent;\n",
              "      border-bottom-color: var(--fill-color);\n",
              "    }\n",
              "  }\n",
              "</style>\n",
              "\n",
              "  <script>\n",
              "    async function quickchart(key) {\n",
              "      const quickchartButtonEl =\n",
              "        document.querySelector('#' + key + ' button');\n",
              "      quickchartButtonEl.disabled = true;  // To prevent multiple clicks.\n",
              "      quickchartButtonEl.classList.add('colab-df-spinner');\n",
              "      try {\n",
              "        const charts = await google.colab.kernel.invokeFunction(\n",
              "            'suggestCharts', [key], {});\n",
              "      } catch (error) {\n",
              "        console.error('Error during call to suggestCharts:', error);\n",
              "      }\n",
              "      quickchartButtonEl.classList.remove('colab-df-spinner');\n",
              "      quickchartButtonEl.classList.add('colab-df-quickchart-complete');\n",
              "    }\n",
              "    (() => {\n",
              "      let quickchartButtonEl =\n",
              "        document.querySelector('#df-63786db1-4e8f-47c6-8700-f3d116393bf1 button');\n",
              "      quickchartButtonEl.style.display =\n",
              "        google.colab.kernel.accessAllowed ? 'block' : 'none';\n",
              "    })();\n",
              "  </script>\n",
              "</div>\n",
              "\n",
              "    </div>\n",
              "  </div>\n"
            ]
          },
          "metadata": {},
          "execution_count": 12
        }
      ],
      "source": [
        "# Analyzing the data statistics:\n",
        "mkt_sales.describe()"
      ]
    },
    {
      "cell_type": "markdown",
      "metadata": {
        "id": "UPVGls3Qyz6a"
      },
      "source": [
        "Here are the minimum, maximum, standard deviation, and mean values."
      ]
    },
    {
      "cell_type": "markdown",
      "metadata": {
        "id": "OCPBkz1_ICLR"
      },
      "source": [
        "We can also analyze these values graphically:"
      ]
    },
    {
      "cell_type": "markdown",
      "metadata": {
        "id": "NZ4ZDR96H_vx"
      },
      "source": [
        "Let's check if the values are acceptable, if there is nothing negative or significantly outside reality:\n"
      ]
    },
    {
      "cell_type": "code",
      "execution_count": 13,
      "metadata": {
        "colab": {
          "base_uri": "https://localhost:8080/",
          "height": 542
        },
        "id": "A5N7nkE6xkf-",
        "outputId": "05279237-5b12-44ea-8a5a-6ca8e5ff7def"
      },
      "outputs": [
        {
          "output_type": "display_data",
          "data": {
            "text/html": [
              "<html>\n",
              "<head><meta charset=\"utf-8\" /></head>\n",
              "<body>\n",
              "    <div>            <script src=\"https://cdnjs.cloudflare.com/ajax/libs/mathjax/2.7.5/MathJax.js?config=TeX-AMS-MML_SVG\"></script><script type=\"text/javascript\">if (window.MathJax && window.MathJax.Hub && window.MathJax.Hub.Config) {window.MathJax.Hub.Config({SVG: {font: \"STIX-Web\"}});}</script>                <script type=\"text/javascript\">window.PlotlyConfig = {MathJaxConfig: 'local'};</script>\n",
              "        <script charset=\"utf-8\" src=\"https://cdn.plot.ly/plotly-2.24.1.min.js\"></script>                <div id=\"051695a0-78b2-436d-9e00-7de0254087c2\" class=\"plotly-graph-div\" style=\"height:525px; width:100%;\"></div>            <script type=\"text/javascript\">                                    window.PLOTLYENV=window.PLOTLYENV || {};                                    if (document.getElementById(\"051695a0-78b2-436d-9e00-7de0254087c2\")) {                    Plotly.newPlot(                        \"051695a0-78b2-436d-9e00-7de0254087c2\",                        [{\"x\":[84.72,351.48,135.48,116.64,318.72,114.84,348.84,320.28,89.64,51.72,273.6,243.0,212.4,352.32,248.28,30.12,210.12,107.64,287.88,272.64,80.28,239.76,120.48,259.68,219.12,315.24,238.68,8.76,163.44,252.96,252.84,64.2,313.56,287.16,123.24,157.32,82.8,37.8,167.16,284.88,260.16,238.92,131.76,32.16,155.28,256.08,20.28,33.0,144.6,6.48,139.2,91.68,287.76,90.36,82.08,256.2,231.84,91.56,132.84,105.96,131.76,161.16,34.32,261.24,301.08,128.88,195.96,237.12,221.88,347.64,162.24,266.88,355.68,336.24,225.48,285.84,165.48,30.0,108.48,15.72,306.48,270.96,290.04,210.84,251.52,93.84,90.12,167.04,91.68,150.84,23.28,169.56,22.56,268.8,147.72,275.4,104.64,9.36,96.24,264.36,71.52,0.84,318.24,10.08,263.76,44.28,57.96,30.72,328.44,51.6,221.88,88.08,232.44,264.6,125.52,115.44,168.36,288.12,291.84,45.6,53.64,336.84,145.2,237.12,205.56,225.36,4.92,112.68,179.76,14.04,158.04,207.0,102.84,226.08,196.2,140.64,281.4,21.48,248.16,258.48,341.16,60.0,197.4,23.52,202.08,266.88,332.28,298.08,204.24,332.04,198.72,187.92,262.2,67.44,345.12,304.56,246.0,167.4,229.32,343.2,22.44,47.4,90.6,20.64,200.16,179.64,45.84,113.04,212.4,340.32,278.52],\"type\":\"histogram\",\"xaxis\":\"x\",\"yaxis\":\"y\"},{\"x\":[19.2,33.96,20.88,1.8,24.0,1.68,4.92,52.56,59.28,32.04,45.24,26.76,40.08,33.24,10.08,30.84,27.0,11.88,49.8,18.96,14.04,3.72,11.52,50.04,55.44,34.56,59.28,33.72,23.04,59.52,35.4,2.4,51.24,18.6,35.52,51.36,11.16,29.52,17.4,33.0,52.68,36.72,17.16,39.6,6.84,29.52,52.44,1.92,34.2,35.88,9.24,32.04,4.92,24.36,53.4,51.6,22.08,33.0,48.72,30.6,57.36,5.88,1.8,40.2,43.8,16.8,37.92,4.2,25.2,50.76,50.04,5.16,43.56,12.12,20.64,41.16,55.68,13.2,0.36,0.48,32.28,9.84,45.6,18.48,24.72,56.16,42.0,17.16,0.96,44.28,19.2,32.16,26.04,2.88,41.52,38.76,14.16,46.68,0.0,58.8,14.4,47.52,3.48,32.64,40.2,46.32,56.4,46.8,34.68,31.08,52.68,20.4,42.48,39.84,6.84,17.76,2.28,8.76,58.8,48.36,30.96,16.68,10.08,27.96,47.64,25.32,13.92,52.2,1.56,44.28,22.08,21.72,42.96,21.72,44.16,17.64,4.08,45.12,6.24,28.32,12.72,13.92,25.08,24.12,8.52,4.08,58.68,36.24,9.36,2.76,12.0,3.12,6.48,6.84,51.6,25.56,54.12,2.52,34.44,16.68,14.52,49.32,12.96,4.92,50.4,42.72,4.44,5.88,11.16,50.4,10.32],\"type\":\"histogram\",\"xaxis\":\"x2\",\"yaxis\":\"y2\"},{\"x\":[48.96,51.84,46.32,36.0,0.36,8.88,10.2,6.0,54.84,42.12,38.4,37.92,46.44,2.16,31.68,51.96,37.8,42.84,22.2,59.88,44.16,41.52,4.32,47.52,70.44,19.08,72.0,49.68,19.92,45.24,11.16,25.68,65.64,32.76,10.08,34.68,1.08,2.64,12.24,13.2,32.64,46.44,38.04,23.16,37.56,15.72,107.28,24.84,17.04,11.28,27.72,26.76,44.28,39.0,42.72,40.56,78.84,19.2,75.84,88.08,61.68,11.16,39.6,70.8,86.76,13.08,63.48,7.08,26.4,61.44,55.08,59.76,121.08,25.68,21.48,6.36,70.8,35.64,27.84,30.72,6.6,67.8,27.84,2.88,12.84,41.4,63.24,30.72,17.76,95.04,26.76,55.44,60.48,18.72,14.88,89.04,31.08,60.72,11.04,3.84,51.72,10.44,51.6,2.52,54.12,78.72,10.2,11.16,71.64,24.6,2.04,15.48,90.72,45.48,41.28,46.68,10.8,10.44,53.16,14.28,24.72,44.4,58.44,17.04,45.24,11.4,6.84,60.6,29.16,54.24,41.52,36.84,59.16,30.72,8.88,6.48,101.76,25.92,23.28,69.12,7.68,22.08,56.88,20.4,15.36,15.72,50.16,24.36,42.24,28.44,21.12,9.96,32.88,35.64,86.16,36.0,23.52,31.92,21.84,4.44,28.08,6.96,7.2,37.92,4.32,7.2,16.56,9.72,7.68,79.44,10.44],\"type\":\"histogram\",\"xaxis\":\"x3\",\"yaxis\":\"y3\"}],                        {\"template\":{\"data\":{\"histogram2dcontour\":[{\"type\":\"histogram2dcontour\",\"colorbar\":{\"outlinewidth\":0,\"ticks\":\"\"},\"colorscale\":[[0.0,\"#0d0887\"],[0.1111111111111111,\"#46039f\"],[0.2222222222222222,\"#7201a8\"],[0.3333333333333333,\"#9c179e\"],[0.4444444444444444,\"#bd3786\"],[0.5555555555555556,\"#d8576b\"],[0.6666666666666666,\"#ed7953\"],[0.7777777777777778,\"#fb9f3a\"],[0.8888888888888888,\"#fdca26\"],[1.0,\"#f0f921\"]]}],\"choropleth\":[{\"type\":\"choropleth\",\"colorbar\":{\"outlinewidth\":0,\"ticks\":\"\"}}],\"histogram2d\":[{\"type\":\"histogram2d\",\"colorbar\":{\"outlinewidth\":0,\"ticks\":\"\"},\"colorscale\":[[0.0,\"#0d0887\"],[0.1111111111111111,\"#46039f\"],[0.2222222222222222,\"#7201a8\"],[0.3333333333333333,\"#9c179e\"],[0.4444444444444444,\"#bd3786\"],[0.5555555555555556,\"#d8576b\"],[0.6666666666666666,\"#ed7953\"],[0.7777777777777778,\"#fb9f3a\"],[0.8888888888888888,\"#fdca26\"],[1.0,\"#f0f921\"]]}],\"heatmap\":[{\"type\":\"heatmap\",\"colorbar\":{\"outlinewidth\":0,\"ticks\":\"\"},\"colorscale\":[[0.0,\"#0d0887\"],[0.1111111111111111,\"#46039f\"],[0.2222222222222222,\"#7201a8\"],[0.3333333333333333,\"#9c179e\"],[0.4444444444444444,\"#bd3786\"],[0.5555555555555556,\"#d8576b\"],[0.6666666666666666,\"#ed7953\"],[0.7777777777777778,\"#fb9f3a\"],[0.8888888888888888,\"#fdca26\"],[1.0,\"#f0f921\"]]}],\"heatmapgl\":[{\"type\":\"heatmapgl\",\"colorbar\":{\"outlinewidth\":0,\"ticks\":\"\"},\"colorscale\":[[0.0,\"#0d0887\"],[0.1111111111111111,\"#46039f\"],[0.2222222222222222,\"#7201a8\"],[0.3333333333333333,\"#9c179e\"],[0.4444444444444444,\"#bd3786\"],[0.5555555555555556,\"#d8576b\"],[0.6666666666666666,\"#ed7953\"],[0.7777777777777778,\"#fb9f3a\"],[0.8888888888888888,\"#fdca26\"],[1.0,\"#f0f921\"]]}],\"contourcarpet\":[{\"type\":\"contourcarpet\",\"colorbar\":{\"outlinewidth\":0,\"ticks\":\"\"}}],\"contour\":[{\"type\":\"contour\",\"colorbar\":{\"outlinewidth\":0,\"ticks\":\"\"},\"colorscale\":[[0.0,\"#0d0887\"],[0.1111111111111111,\"#46039f\"],[0.2222222222222222,\"#7201a8\"],[0.3333333333333333,\"#9c179e\"],[0.4444444444444444,\"#bd3786\"],[0.5555555555555556,\"#d8576b\"],[0.6666666666666666,\"#ed7953\"],[0.7777777777777778,\"#fb9f3a\"],[0.8888888888888888,\"#fdca26\"],[1.0,\"#f0f921\"]]}],\"surface\":[{\"type\":\"surface\",\"colorbar\":{\"outlinewidth\":0,\"ticks\":\"\"},\"colorscale\":[[0.0,\"#0d0887\"],[0.1111111111111111,\"#46039f\"],[0.2222222222222222,\"#7201a8\"],[0.3333333333333333,\"#9c179e\"],[0.4444444444444444,\"#bd3786\"],[0.5555555555555556,\"#d8576b\"],[0.6666666666666666,\"#ed7953\"],[0.7777777777777778,\"#fb9f3a\"],[0.8888888888888888,\"#fdca26\"],[1.0,\"#f0f921\"]]}],\"mesh3d\":[{\"type\":\"mesh3d\",\"colorbar\":{\"outlinewidth\":0,\"ticks\":\"\"}}],\"scatter\":[{\"fillpattern\":{\"fillmode\":\"overlay\",\"size\":10,\"solidity\":0.2},\"type\":\"scatter\"}],\"parcoords\":[{\"type\":\"parcoords\",\"line\":{\"colorbar\":{\"outlinewidth\":0,\"ticks\":\"\"}}}],\"scatterpolargl\":[{\"type\":\"scatterpolargl\",\"marker\":{\"colorbar\":{\"outlinewidth\":0,\"ticks\":\"\"}}}],\"bar\":[{\"error_x\":{\"color\":\"#2a3f5f\"},\"error_y\":{\"color\":\"#2a3f5f\"},\"marker\":{\"line\":{\"color\":\"#E5ECF6\",\"width\":0.5},\"pattern\":{\"fillmode\":\"overlay\",\"size\":10,\"solidity\":0.2}},\"type\":\"bar\"}],\"scattergeo\":[{\"type\":\"scattergeo\",\"marker\":{\"colorbar\":{\"outlinewidth\":0,\"ticks\":\"\"}}}],\"scatterpolar\":[{\"type\":\"scatterpolar\",\"marker\":{\"colorbar\":{\"outlinewidth\":0,\"ticks\":\"\"}}}],\"histogram\":[{\"marker\":{\"pattern\":{\"fillmode\":\"overlay\",\"size\":10,\"solidity\":0.2}},\"type\":\"histogram\"}],\"scattergl\":[{\"type\":\"scattergl\",\"marker\":{\"colorbar\":{\"outlinewidth\":0,\"ticks\":\"\"}}}],\"scatter3d\":[{\"type\":\"scatter3d\",\"line\":{\"colorbar\":{\"outlinewidth\":0,\"ticks\":\"\"}},\"marker\":{\"colorbar\":{\"outlinewidth\":0,\"ticks\":\"\"}}}],\"scattermapbox\":[{\"type\":\"scattermapbox\",\"marker\":{\"colorbar\":{\"outlinewidth\":0,\"ticks\":\"\"}}}],\"scatterternary\":[{\"type\":\"scatterternary\",\"marker\":{\"colorbar\":{\"outlinewidth\":0,\"ticks\":\"\"}}}],\"scattercarpet\":[{\"type\":\"scattercarpet\",\"marker\":{\"colorbar\":{\"outlinewidth\":0,\"ticks\":\"\"}}}],\"carpet\":[{\"aaxis\":{\"endlinecolor\":\"#2a3f5f\",\"gridcolor\":\"white\",\"linecolor\":\"white\",\"minorgridcolor\":\"white\",\"startlinecolor\":\"#2a3f5f\"},\"baxis\":{\"endlinecolor\":\"#2a3f5f\",\"gridcolor\":\"white\",\"linecolor\":\"white\",\"minorgridcolor\":\"white\",\"startlinecolor\":\"#2a3f5f\"},\"type\":\"carpet\"}],\"table\":[{\"cells\":{\"fill\":{\"color\":\"#EBF0F8\"},\"line\":{\"color\":\"white\"}},\"header\":{\"fill\":{\"color\":\"#C8D4E3\"},\"line\":{\"color\":\"white\"}},\"type\":\"table\"}],\"barpolar\":[{\"marker\":{\"line\":{\"color\":\"#E5ECF6\",\"width\":0.5},\"pattern\":{\"fillmode\":\"overlay\",\"size\":10,\"solidity\":0.2}},\"type\":\"barpolar\"}],\"pie\":[{\"automargin\":true,\"type\":\"pie\"}]},\"layout\":{\"autotypenumbers\":\"strict\",\"colorway\":[\"#636efa\",\"#EF553B\",\"#00cc96\",\"#ab63fa\",\"#FFA15A\",\"#19d3f3\",\"#FF6692\",\"#B6E880\",\"#FF97FF\",\"#FECB52\"],\"font\":{\"color\":\"#2a3f5f\"},\"hovermode\":\"closest\",\"hoverlabel\":{\"align\":\"left\"},\"paper_bgcolor\":\"white\",\"plot_bgcolor\":\"#E5ECF6\",\"polar\":{\"bgcolor\":\"#E5ECF6\",\"angularaxis\":{\"gridcolor\":\"white\",\"linecolor\":\"white\",\"ticks\":\"\"},\"radialaxis\":{\"gridcolor\":\"white\",\"linecolor\":\"white\",\"ticks\":\"\"}},\"ternary\":{\"bgcolor\":\"#E5ECF6\",\"aaxis\":{\"gridcolor\":\"white\",\"linecolor\":\"white\",\"ticks\":\"\"},\"baxis\":{\"gridcolor\":\"white\",\"linecolor\":\"white\",\"ticks\":\"\"},\"caxis\":{\"gridcolor\":\"white\",\"linecolor\":\"white\",\"ticks\":\"\"}},\"coloraxis\":{\"colorbar\":{\"outlinewidth\":0,\"ticks\":\"\"}},\"colorscale\":{\"sequential\":[[0.0,\"#0d0887\"],[0.1111111111111111,\"#46039f\"],[0.2222222222222222,\"#7201a8\"],[0.3333333333333333,\"#9c179e\"],[0.4444444444444444,\"#bd3786\"],[0.5555555555555556,\"#d8576b\"],[0.6666666666666666,\"#ed7953\"],[0.7777777777777778,\"#fb9f3a\"],[0.8888888888888888,\"#fdca26\"],[1.0,\"#f0f921\"]],\"sequentialminus\":[[0.0,\"#0d0887\"],[0.1111111111111111,\"#46039f\"],[0.2222222222222222,\"#7201a8\"],[0.3333333333333333,\"#9c179e\"],[0.4444444444444444,\"#bd3786\"],[0.5555555555555556,\"#d8576b\"],[0.6666666666666666,\"#ed7953\"],[0.7777777777777778,\"#fb9f3a\"],[0.8888888888888888,\"#fdca26\"],[1.0,\"#f0f921\"]],\"diverging\":[[0,\"#8e0152\"],[0.1,\"#c51b7d\"],[0.2,\"#de77ae\"],[0.3,\"#f1b6da\"],[0.4,\"#fde0ef\"],[0.5,\"#f7f7f7\"],[0.6,\"#e6f5d0\"],[0.7,\"#b8e186\"],[0.8,\"#7fbc41\"],[0.9,\"#4d9221\"],[1,\"#276419\"]]},\"xaxis\":{\"gridcolor\":\"white\",\"linecolor\":\"white\",\"ticks\":\"\",\"title\":{\"standoff\":15},\"zerolinecolor\":\"white\",\"automargin\":true,\"zerolinewidth\":2},\"yaxis\":{\"gridcolor\":\"white\",\"linecolor\":\"white\",\"ticks\":\"\",\"title\":{\"standoff\":15},\"zerolinecolor\":\"white\",\"automargin\":true,\"zerolinewidth\":2},\"scene\":{\"xaxis\":{\"backgroundcolor\":\"#E5ECF6\",\"gridcolor\":\"white\",\"linecolor\":\"white\",\"showbackground\":true,\"ticks\":\"\",\"zerolinecolor\":\"white\",\"gridwidth\":2},\"yaxis\":{\"backgroundcolor\":\"#E5ECF6\",\"gridcolor\":\"white\",\"linecolor\":\"white\",\"showbackground\":true,\"ticks\":\"\",\"zerolinecolor\":\"white\",\"gridwidth\":2},\"zaxis\":{\"backgroundcolor\":\"#E5ECF6\",\"gridcolor\":\"white\",\"linecolor\":\"white\",\"showbackground\":true,\"ticks\":\"\",\"zerolinecolor\":\"white\",\"gridwidth\":2}},\"shapedefaults\":{\"line\":{\"color\":\"#2a3f5f\"}},\"annotationdefaults\":{\"arrowcolor\":\"#2a3f5f\",\"arrowhead\":0,\"arrowwidth\":1},\"geo\":{\"bgcolor\":\"white\",\"landcolor\":\"#E5ECF6\",\"subunitcolor\":\"white\",\"showland\":true,\"showlakes\":true,\"lakecolor\":\"white\"},\"title\":{\"x\":0.05},\"mapbox\":{\"style\":\"light\"}}},\"xaxis\":{\"anchor\":\"y\",\"domain\":[0.0,0.2888888888888889]},\"yaxis\":{\"anchor\":\"x\",\"domain\":[0.0,1.0]},\"xaxis2\":{\"anchor\":\"y2\",\"domain\":[0.35555555555555557,0.6444444444444445]},\"yaxis2\":{\"anchor\":\"x2\",\"domain\":[0.0,1.0]},\"xaxis3\":{\"anchor\":\"y3\",\"domain\":[0.7111111111111111,1.0]},\"yaxis3\":{\"anchor\":\"x3\",\"domain\":[0.0,1.0]},\"annotations\":[{\"font\":{\"size\":16},\"showarrow\":false,\"text\":\"YouTube\",\"x\":0.14444444444444446,\"xanchor\":\"center\",\"xref\":\"paper\",\"y\":1.0,\"yanchor\":\"bottom\",\"yref\":\"paper\"},{\"font\":{\"size\":16},\"showarrow\":false,\"text\":\"Facebook\",\"x\":0.5,\"xanchor\":\"center\",\"xref\":\"paper\",\"y\":1.0,\"yanchor\":\"bottom\",\"yref\":\"paper\"},{\"font\":{\"size\":16},\"showarrow\":false,\"text\":\"Newspaper\",\"x\":0.8555555555555556,\"xanchor\":\"center\",\"xref\":\"paper\",\"y\":1.0,\"yanchor\":\"bottom\",\"yref\":\"paper\"}],\"showlegend\":false},                        {\"responsive\": true}                    ).then(function(){\n",
              "                            \n",
              "var gd = document.getElementById('051695a0-78b2-436d-9e00-7de0254087c2');\n",
              "var x = new MutationObserver(function (mutations, observer) {{\n",
              "        var display = window.getComputedStyle(gd).display;\n",
              "        if (!display || display === 'none') {{\n",
              "            console.log([gd, 'removed!']);\n",
              "            Plotly.purge(gd);\n",
              "            observer.disconnect();\n",
              "        }}\n",
              "}});\n",
              "\n",
              "// Listen for the removal of the full notebook cells\n",
              "var notebookContainer = gd.closest('#notebook-container');\n",
              "if (notebookContainer) {{\n",
              "    x.observe(notebookContainer, {childList: true});\n",
              "}}\n",
              "\n",
              "// Listen for the clearing of the current output cell\n",
              "var outputEl = gd.closest('.output');\n",
              "if (outputEl) {{\n",
              "    x.observe(outputEl, {childList: true});\n",
              "}}\n",
              "\n",
              "                        })                };                            </script>        </div>\n",
              "</body>\n",
              "</html>"
            ]
          },
          "metadata": {}
        }
      ],
      "source": [
        "fig = make_subplots(rows=1, cols=3, subplot_titles=(\"YouTube\",\"Facebook\", \"Newspaper\"))\n",
        "\n",
        "fig.add_trace(go.Histogram(x=mkt_sales['youtube']),\n",
        "              row=1, col=1)\n",
        "fig.add_trace(go.Histogram(x=mkt_sales['facebook']),\n",
        "              row=1, col=2)\n",
        "fig.add_trace(go.Histogram(x=mkt_sales['newspaper']),\n",
        "              row=1, col=3)\n",
        "\n",
        "fig.update_layout(showlegend=False)"
      ]
    },
    {
      "cell_type": "markdown",
      "metadata": {
        "id": "FhdSB0KJCNrF"
      },
      "source": [
        "Now, let's move on to the next step."
      ]
    },
    {
      "cell_type": "markdown",
      "metadata": {
        "id": "4H5FodUAzvxh"
      },
      "source": [
        "# 3. Exploratory Analysis"
      ]
    },
    {
      "cell_type": "markdown",
      "metadata": {
        "id": "P1fAdswnHju2"
      },
      "source": [
        "Let's analyze the relationships between variables and sales to discover relevant patterns:"
      ]
    },
    {
      "cell_type": "code",
      "execution_count": 14,
      "metadata": {
        "colab": {
          "base_uri": "https://localhost:8080/",
          "height": 268
        },
        "id": "0_wTNYtRy9LT",
        "outputId": "1bfc4317-578c-46a4-a28c-55e5bcdf439c"
      },
      "outputs": [
        {
          "output_type": "display_data",
          "data": {
            "text/plain": [
              "<Figure size 750x250 with 3 Axes>"
            ],
            "image/png": "[encoded data removed]"
          },
          "metadata": {}
        }
      ],
      "source": [
        "sns.pairplot(mkt_sales, x_vars = ['youtube','facebook','newspaper'], y_vars = 'sales');"
      ]
    },
    {
      "cell_type": "markdown",
      "metadata": {
        "id": "xO_v4yNAIxjd"
      },
      "source": [
        "We can see that the 'youtube' variable has a more pronounced linearity.\n",
        "\n",
        "Let's verify the correlations using a heatmap:"
      ]
    },
    {
      "cell_type": "code",
      "execution_count": 15,
      "metadata": {
        "colab": {
          "base_uri": "https://localhost:8080/",
          "height": 435
        },
        "id": "0AWzxf3VI9CO",
        "outputId": "c614d0f9-a70d-4d37-acfe-5642b9f6d8b6"
      },
      "outputs": [
        {
          "output_type": "display_data",
          "data": {
            "text/plain": [
              "<Figure size 640x480 with 2 Axes>"
            ],
            "image/png": "[encoded data removed]"
          },
          "metadata": {}
        }
      ],
      "source": [
        "sns.heatmap(mkt_sales.corr(), annot = True);"
      ]
    },
    {
      "cell_type": "markdown",
      "metadata": {
        "id": "y-VlNuhGJNKs"
      },
      "source": [
        "We notice that YouTube has a stronger correlation than Facebook and newspaper."
      ]
    },
    {
      "cell_type": "markdown",
      "metadata": {
        "id": "f5vz-vRqJbSk"
      },
      "source": [
        "# 3. Modeling"
      ]
    },
    {
      "cell_type": "markdown",
      "metadata": {
        "id": "DL2u_Ew7RlLv"
      },
      "source": [
        "Let's use some regression functions for this case, testing which one performs better:\n",
        "\n",
        "1. SKLearn Linear Regression\n",
        "<https://scikit-learn.org/stable/modules/generated/sklearn.linear_model.LinearRegression.html#sklearn.linear_model.LinearRegression>\n",
        "\n",
        "2. SKLearn Support Vector Regression <https://scikit-learn.org/stable/modules/generated/sklearn.svm.SVR.html>\n",
        "\n",
        "Modeling Assumptions:\n",
        "\n",
        "Only numeric variables\n"
      ]
    },
    {
      "cell_type": "markdown",
      "metadata": {
        "id": "vkDNvtkjOb27"
      },
      "source": [
        "Let's separate our independent(X) and dependent(y) variables to use machine learning algorithms.\n"
      ]
    },
    {
      "cell_type": "code",
      "execution_count": 16,
      "metadata": {
        "id": "vgAtaIQsJ1Yd"
      },
      "outputs": [],
      "source": [
        "X = mkt_sales[['youtube', 'facebook', 'newspaper']]\n",
        "\n",
        "y = mkt_sales[['sales']]"
      ]
    },
    {
      "cell_type": "markdown",
      "metadata": {
        "id": "mnGtx5CQOjnJ"
      },
      "source": [
        "We'll split our training and testing scope with 20% for testing using the SKLearn method."
      ]
    },
    {
      "cell_type": "code",
      "execution_count": 17,
      "metadata": {
        "id": "QXEisk-HNuaT"
      },
      "outputs": [],
      "source": [
        "X_train, X_test, y_train, y_test = train_test_split(X, y, test_size = 0.2, random_state = 42)"
      ]
    },
    {
      "cell_type": "markdown",
      "metadata": {
        "id": "ySeccRG_Mvsz"
      },
      "source": [
        "# Model Evaluation Metric:\n",
        "\n",
        "We will use the r² metric to determine the best method to be used, where the closer the r² value is to 1, the better the model will be. <https://scikit-learn.org/stable/modules/generated/sklearn.metrics.r2_score.html>"
      ]
    },
    {
      "cell_type": "markdown",
      "metadata": {
        "id": "HTLBtAJBM-aE"
      },
      "source": [
        "# Technique 1. Linear Regression"
      ]
    },
    {
      "cell_type": "code",
      "execution_count": 18,
      "metadata": {
        "colab": {
          "base_uri": "https://localhost:8080/"
        },
        "id": "faE-QmDqRvrn",
        "outputId": "02bf990e-3201-46a7-e684-4929048ec628"
      },
      "outputs": [
        {
          "output_type": "stream",
          "name": "stdout",
          "text": [
            "r2Linear:  0.872863085701216\n"
          ]
        }
      ],
      "source": [
        "# Training the model\n",
        "regLinear = LinearRegression().fit(X_train, y_train)\n",
        "\n",
        "# Testing the model\n",
        "yPredLinear = regLinear.predict(X_test)\n",
        "\n",
        "# Calculating the r² error\n",
        "r2Linear = r2_score(y_test, yPredLinear)\n",
        "\n",
        "# Displaying results\n",
        "print('r2Linear: ',r2Linear)"
      ]
    },
    {
      "cell_type": "markdown",
      "metadata": {
        "id": "MOHnOkDrNlTq"
      },
      "source": [
        "# Technique 2. Support Vector Regression"
      ]
    },
    {
      "cell_type": "code",
      "execution_count": 19,
      "metadata": {
        "colab": {
          "base_uri": "https://localhost:8080/"
        },
        "id": "skSRlawFNrqT",
        "outputId": "5a87ed97-ed40-4070-cbb0-812d35609ca9"
      },
      "outputs": [
        {
          "output_type": "stream",
          "name": "stdout",
          "text": [
            "r2Linear:  0.8188712168501214\n"
          ]
        },
        {
          "output_type": "stream",
          "name": "stderr",
          "text": [
            "/usr/local/lib/python3.10/dist-packages/sklearn/utils/validation.py:1143: DataConversionWarning:\n",
            "\n",
            "A column-vector y was passed when a 1d array was expected. Please change the shape of y to (n_samples, ), for example using ravel().\n",
            "\n"
          ]
        }
      ],
      "source": [
        "# Training the model\n",
        "regSVR = SVR().fit(X_train, y_train)\n",
        "\n",
        "# Testing the model\n",
        "yPredSVR = regSVR.predict(X_test)\n",
        "\n",
        "# Calculating the r² error\n",
        "r2SVR = r2_score(y_test, yPredSVR)\n",
        "\n",
        "# Displaying results\n",
        "print('r2Linear: ',r2SVR)"
      ]
    },
    {
      "cell_type": "markdown",
      "metadata": {
        "id": "jka8dwm6RX0w"
      },
      "source": [
        "From the r² results, we see that the Linear Regression technique brought a better result. Let's now optimize the hyperparameters using the GridSearchCV method from SKLearn <https://scikit-learn.org/stable/modules/generated/sklearn.model_selection.GridSearchCV.html#sklearn.model_selection.GridSearchCV>"
      ]
    },
    {
      "cell_type": "code",
      "execution_count": 20,
      "metadata": {
        "colab": {
          "base_uri": "https://localhost:8080/"
        },
        "id": "Q2a89uKTRhNt",
        "outputId": "11986896-95c3-4919-93aa-77ff3d23ebf5"
      },
      "outputs": [
        {
          "output_type": "execute_result",
          "data": {
            "text/plain": [
              "{'copy_X': True, 'fit_intercept': True, 'n_jobs': None, 'positive': False}"
            ]
          },
          "metadata": {},
          "execution_count": 20
        }
      ],
      "source": [
        "# Displaying the parameters\n",
        "LinearRegression().get_params()"
      ]
    },
    {
      "cell_type": "code",
      "execution_count": 21,
      "metadata": {
        "colab": {
          "base_uri": "https://localhost:8080/"
        },
        "id": "ezf0Wq8JSVsj",
        "outputId": "e7f736a2-4b00-4241-8fd2-390c6bdfcf1b"
      },
      "outputs": [
        {
          "output_type": "stream",
          "name": "stdout",
          "text": [
            "Fitting 5 folds for each of 4 candidates, totalling 20 fits\n"
          ]
        },
        {
          "output_type": "execute_result",
          "data": {
            "text/plain": [
              "{'fit_intercept': True, 'positive': True}"
            ]
          },
          "metadata": {},
          "execution_count": 21
        }
      ],
      "source": [
        "# Introducing the parameters to be tested\n",
        "parameters = {\n",
        "    'fit_intercept': [True, False],\n",
        "    'positive': [False, True]\n",
        "}\n",
        "\n",
        "# Setting up the GridSearchCV\n",
        "LinearGrid = GridSearchCV(LinearRegression(), parameters, refit = 'r2', verbose = True)\n",
        "\n",
        "# Passing the training data\n",
        "LinearGridModel = LinearGrid.fit(X_train, y_train)\n",
        "\n",
        "# Displaying the best parameters\n",
        "LinearGridModel.best_params_"
      ]
    },
    {
      "cell_type": "markdown",
      "metadata": {
        "id": "OuY3anQpVW_d"
      },
      "source": [
        "In this way, only the 'positive' parameter was changed to True to achieve a better result."
      ]
    },
    {
      "cell_type": "code",
      "execution_count": 22,
      "metadata": {
        "colab": {
          "base_uri": "https://localhost:8080/"
        },
        "id": "DSSmXHWUUu3H",
        "outputId": "e280daec-b723-4178-ff3c-4059afc946ff"
      },
      "outputs": [
        {
          "output_type": "stream",
          "name": "stdout",
          "text": [
            "r2LGM:  0.8728894133434413\n"
          ]
        }
      ],
      "source": [
        "# Testing the model\n",
        "yLGM = LinearGridModel.predict(X_test)\n",
        "\n",
        "# Calculating the r² error\n",
        "r2LGM = r2_score(y_test, yLGM)\n",
        "\n",
        "# Displaying results\n",
        "print('r2LGM: ',r2LGM)"
      ]
    },
    {
      "cell_type": "markdown",
      "metadata": {
        "id": "swLmoTceVnJN"
      },
      "source": [
        "# 4. Calculating Prediction"
      ]
    },
    {
      "cell_type": "code",
      "execution_count": 23,
      "metadata": {
        "colab": {
          "base_uri": "https://localhost:8080/"
        },
        "id": "noF6B-fCVsvu",
        "outputId": "5633ddb6-2ebb-40e6-fac2-f8d7397b3f3f"
      },
      "outputs": [
        {
          "output_type": "stream",
          "name": "stdout",
          "text": [
            "With $250.50 invested in YouTube, $50.00 invested in Facebook, and $40.00 in NewsPaper, an estimated return of $24.49 is expected\n"
          ]
        }
      ],
      "source": [
        "# Enter the investment values in YouTube, Facebook, and Newspaper to get a sales forecast:\n",
        "\n",
        "Youtube = 250.50\n",
        "Facebook = 50.0\n",
        "NewsPaper = 40.0\n",
        "\n",
        "array_invest = np.array([['','youtube','facebook','newspaper'],\n",
        "                ['Row1',Youtube,Facebook,NewsPaper]])\n",
        "\n",
        "investiment = pd.DataFrame(data=array_invest[1:,1:],\n",
        "                  index=[1],\n",
        "                  columns=['youtube','facebook','newspaper'])\n",
        "\n",
        "previsto = float(LinearGridModel.predict(investiment))\n",
        "\n",
        "print(f\"With ${Youtube:.2f} invested in YouTube, ${Facebook:.2f} invested in Facebook, and ${NewsPaper:.2f} in NewsPaper, an estimated return of ${previsto:.2f} is expected\")"
      ]
    }
  ],
  "metadata": {
    "colab": {
      "provenance": []
    },
    "kernelspec": {
      "display_name": "Python 3",
      "name": "python3"
    },
    "language_info": {
      "name": "python"
    }
  },
  "nbformat": 4,
  "nbformat_minor": 0
}